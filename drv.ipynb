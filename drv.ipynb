{
 "cells": [
  {
   "cell_type": "code",
   "execution_count": 94,
   "metadata": {
    "collapsed": false
   },
   "outputs": [],
   "source": [
    "import random as rd    "
   ]
  },
  {
   "cell_type": "code",
   "execution_count": 5,
   "metadata": {
    "collapsed": false
   },
   "outputs": [
    {
     "name": "stdout",
     "output_type": "stream",
     "text": [
      "Populating the interactive namespace from numpy and matplotlib\n"
     ]
    }
   ],
   "source": [
    "%pylab inline"
   ]
  },
  {
   "cell_type": "markdown",
   "metadata": {},
   "source": [
    "### Генерация ДСВ."
   ]
  },
  {
   "cell_type": "markdown",
   "metadata": {},
   "source": [
    "Будем генерировать следующие функции распределения:\n",
    "<ul>\n",
    "<li>\n",
    "Распределение Пуассона p(x = k) = a^k / k! * e^(-a), в качестве a выберем 1, число исходов - 100\n",
    "</li>\n",
    "<li>\n",
    "B(n, p) // Биноминальное распределение n = 1000 (совпадает с числом исходов), p = 0,75\n",
    "</li>\n",
    "<li>\n",
    "Логарифмическое распределение с p = 0.9, экспериментов - 100\n",
    "</li>\n",
    "<li>\n",
    "Геометрическое распределение (число экспериментов до первого успеха) с p = 0.01, n = 1000\n",
    "</li>\n",
    "</ul>"
   ]
  },
  {
   "cell_type": "markdown",
   "metadata": {},
   "source": [
    "Часть этих распределений определены для бесконечного промежутка, т.е хвост распределения может быть немного перегружен. Поэтому для них выбраны параметры, минимизирующие количество вариантов, попадающих в  хвост"
   ]
  },
  {
   "cell_type": "code",
   "execution_count": 78,
   "metadata": {
    "collapsed": false
   },
   "outputs": [],
   "source": [
    "import math\n",
    "\n",
    "def generate_drv_weights_puasson(n, a):\n",
    "    def puasson(k, a1):\n",
    "        return a1 ** k / float(math.factorial(k)) * math.exp(-a1)\n",
    "    sp = [puasson(i, a) for i in range(n)]\n",
    "    s = sum(sp)\n",
    "    return list(map(lambda x : x / s, sp))"
   ]
  },
  {
   "cell_type": "code",
   "execution_count": 79,
   "metadata": {
    "collapsed": false
   },
   "outputs": [],
   "source": [
    "def generate_drv_binomial(n, p):\n",
    "    def binomial(n1, k, p1):\n",
    "        def binom(n, k):\n",
    "            return math.factorial(n) / (math.factorial(k) * math.factorial(n - k))\n",
    "        return binom(n1, k) * p**k * (1-p)**(n1 - k)\n",
    "    sp = [binomial(n, i, p) for i in range(n)]\n",
    "    s = sum(sp)\n",
    "    return list(map(lambda x : x / s, sp))"
   ]
  },
  {
   "cell_type": "code",
   "execution_count": 80,
   "metadata": {
    "collapsed": true
   },
   "outputs": [],
   "source": [
    "def generate_drv_log(n, p):\n",
    "    def log_f(p, k):\n",
    "        return -1.0 / math.log(1 - p) * p**k / k\n",
    "    sp = [log_f(p, i) for i in range(1, n)]\n",
    "    s = sum(sp)\n",
    "    return list(map(lambda x : x / s, sp))"
   ]
  },
  {
   "cell_type": "code",
   "execution_count": 81,
   "metadata": {
    "collapsed": true
   },
   "outputs": [],
   "source": [
    "def generate_drv_geom(n, p):\n",
    "    sp = [p*(1-p)**(i-1) for i in range(1,n)]\n",
    "    s = sum(sp)\n",
    "    return list(map(lambda x : x / s, sp))"
   ]
  },
  {
   "cell_type": "code",
   "execution_count": 82,
   "metadata": {
    "collapsed": false
   },
   "outputs": [],
   "source": [
    "drv1 = generate_drv_weights_puasson(100, 1)\n",
    "drv2 = generate_drv_binomial(1000, 0.75)\n",
    "drv3 = generate_drv_log(100, 0.9)\n",
    "drv4 = generate_drv_geom(1000, 0.01)"
   ]
  },
  {
   "cell_type": "markdown",
   "metadata": {},
   "source": [
    "Нормировка проводилась по единственной причине - ошибки округления делали сумму составляющих функции плотности распределения слегка < 1"
   ]
  },
  {
   "cell_type": "markdown",
   "metadata": {},
   "source": [
    "Переменные drvX содержат информацию о соотв. функциях распределения. После генерации распределение сгенерированных величин должно быть похожим на них"
   ]
  },
  {
   "cell_type": "code",
   "execution_count": 91,
   "metadata": {
    "collapsed": false
   },
   "outputs": [],
   "source": [
    "def generate_drv_simple(drvDistr):\n",
    "    r = rd.random()\n",
    "    i = 0\n",
    "    cumSum = drvDistr[0]\n",
    "    while r > cumSum:\n",
    "        cumSum += drvDistr[i + 1]\n",
    "        i += 1\n",
    "    return i"
   ]
  },
  {
   "cell_type": "code",
   "execution_count": 160,
   "metadata": {
    "collapsed": false
   },
   "outputs": [],
   "source": [
    "def generate_drvs(drvDistr, n, gen_func):\n",
    "    drvDistrGen = [0] * len(drvDistr)\n",
    "    for _ in range(n):\n",
    "        drvDistrGen[gen_func(drvDistr)] += 1\n",
    "    return drvDistrGen"
   ]
  },
  {
   "cell_type": "code",
   "execution_count": 125,
   "metadata": {
    "collapsed": false
   },
   "outputs": [],
   "source": [
    "import pylab as py\n",
    "import time"
   ]
  },
  {
   "cell_type": "code",
   "execution_count": 161,
   "metadata": {
    "collapsed": false
   },
   "outputs": [
    {
     "name": "stdout",
     "output_type": "stream",
     "text": [
      "0.527411699295044s. passed\n"
     ]
    }
   ],
   "source": [
    "start = time.time()\n",
    "drv1_gen_basic = generate_drvs(drv1, 1000000, generate_drv_simple)\n",
    "print(str(time.time() - start) + \"s. passed\")"
   ]
  },
  {
   "cell_type": "code",
   "execution_count": 142,
   "metadata": {
    "collapsed": false
   },
   "outputs": [],
   "source": [
    "def plot_2_plots(pl1, pl2):\n",
    "    py.figure(2)\n",
    "    py.subplot(211)\n",
    "    py.plot(pl1)\n",
    "    py.ylabel(\"Probability\")\n",
    "    py.title(\"distribition\")\n",
    "    py.subplot(212)\n",
    "    py.title(\"hist\")\n",
    "    py.ylabel(\"Hits\")\n",
    "    py.plot(pl2)"
   ]
  },
  {
   "cell_type": "code",
   "execution_count": 162,
   "metadata": {
    "collapsed": false,
    "scrolled": true
   },
   "outputs": [
    {
     "data": {
      "image/png": "[encoded data removed]",
      "text/plain": [
       "<matplotlib.figure.Figure at 0x7f82eb4fceb8>"
      ]
     },
     "metadata": {},
     "output_type": "display_data"
    }
   ],
   "source": [
    "plot_2_plots(drv1, drv1_gen_basic)"
   ]
  },
  {
   "cell_type": "code",
   "execution_count": 196,
   "metadata": {
    "collapsed": false
   },
   "outputs": [
    {
     "name": "stdout",
     "output_type": "stream",
     "text": [
      "15.806460618972778s. passed\n"
     ]
    }
   ],
   "source": [
    "start = time.time()\n",
    "drv2_gen_basic = generate_drvs(drv2, 100000, generate_drv_simple)\n",
    "print(str(time.time() - start) + \"s. passed\")"
   ]
  },
  {
   "cell_type": "code",
   "execution_count": 147,
   "metadata": {
    "collapsed": false
   },
   "outputs": [
    {
     "data": {
      "image/png": "[encoded data removed]",
      "text/plain": [
       "<matplotlib.figure.Figure at 0x7f82eb5acac8>"
      ]
     },
     "metadata": {},
     "output_type": "display_data"
    }
   ],
   "source": [
    "plot_2_plots(drv2, drv2_gen_basic)"
   ]
  },
  {
   "cell_type": "code",
   "execution_count": 155,
   "metadata": {
    "collapsed": false
   },
   "outputs": [
    {
     "name": "stdout",
     "output_type": "stream",
     "text": [
      "0.8880496025085449s. passed\n"
     ]
    }
   ],
   "source": [
    "start = time.time()\n",
    "drv3_gen_basic = generate_drvs(drv3, 1000000, generate_drv_simple)\n",
    "print(str(time.time() - start) + \"s. passed\")"
   ]
  },
  {
   "cell_type": "code",
   "execution_count": 156,
   "metadata": {
    "collapsed": false
   },
   "outputs": [
    {
     "data": {
      "image/png": "[encoded data removed]",
      "text/plain": [
       "<matplotlib.figure.Figure at 0x7f82eb3ea828>"
      ]
     },
     "metadata": {},
     "output_type": "display_data"
    }
   ],
   "source": [
    "plot_2_plots(drv3, drv3_gen_basic)"
   ]
  },
  {
   "cell_type": "code",
   "execution_count": 157,
   "metadata": {
    "collapsed": false
   },
   "outputs": [
    {
     "name": "stdout",
     "output_type": "stream",
     "text": [
      "18.824209928512573s. passed\n"
     ]
    }
   ],
   "source": [
    "start = time.time()\n",
    "drv4_gen_basic = generate_drvs(drv4, 1000000, generate_drv_simple)\n",
    "print(str(time.time() - start) + \"s. passed\")"
   ]
  },
  {
   "cell_type": "code",
   "execution_count": 158,
   "metadata": {
    "collapsed": false
   },
   "outputs": [
    {
     "data": {
      "image/png": "[encoded data removed]",
      "text/plain": [
       "<matplotlib.figure.Figure at 0x7f82eb5265f8>"
      ]
     },
     "metadata": {},
     "output_type": "display_data"
    }
   ],
   "source": [
    "plot_2_plots(drv4, drv4_gen_basic)"
   ]
  },
  {
   "cell_type": "markdown",
   "metadata": {},
   "source": [
    "Сравнивая графики во всех случаях ясно, что получившийся алгоритм срабатывает довольно неплохо (при большем количестве исходов (1000) видны небольшие зубцы, которые можно побороть увеличив количество генераций дсв)"
   ]
  },
  {
   "cell_type": "markdown",
   "metadata": {},
   "source": [
    "### Добавим в расчёт бинарный поиск"
   ]
  },
  {
   "cell_type": "code",
   "execution_count": 208,
   "metadata": {
    "collapsed": true
   },
   "outputs": [],
   "source": [
    "from bisect import bisect_left"
   ]
  },
  {
   "cell_type": "code",
   "execution_count": 184,
   "metadata": {
    "collapsed": false
   },
   "outputs": [],
   "source": [
    "def cumSum(distr):\n",
    "    res = [0.0] * len(distr)\n",
    "    sum1 = 0.0\n",
    "    for i,v in enumerate(distr):\n",
    "        sum1 += v\n",
    "        res[i] = sum1\n",
    "    return res"
   ]
  },
  {
   "cell_type": "code",
   "execution_count": 209,
   "metadata": {
    "collapsed": true
   },
   "outputs": [],
   "source": [
    "def gen_drv_bisect(drvDistr):\n",
    "    return bisect_left(drvDistr, rd.random())"
   ]
  },
  {
   "cell_type": "code",
   "execution_count": 210,
   "metadata": {
    "collapsed": false
   },
   "outputs": [
    {
     "name": "stdout",
     "output_type": "stream",
     "text": [
      "0.6193902492523193s. passed\n"
     ]
    }
   ],
   "source": [
    "start = time.time()\n",
    "drv1_gen_bisect = generate_drvs(cumSum(drv1), 1000000, gen_drv_bisect)\n",
    "print(str(time.time() - start) + \"s. passed\")"
   ]
  },
  {
   "cell_type": "markdown",
   "metadata": {},
   "source": [
    "Результат сравним с первым запуском, т.к. максимальные значения тут невелики и расчёт прерывается после первых нескольких операций суммирования. "
   ]
  },
  {
   "cell_type": "code",
   "execution_count": 211,
   "metadata": {
    "collapsed": false
   },
   "outputs": [
    {
     "data": {
      "image/png": "[encoded data removed]",
      "text/plain": [
       "<matplotlib.figure.Figure at 0x7f82eb332eb8>"
      ]
     },
     "metadata": {},
     "output_type": "display_data"
    }
   ],
   "source": [
    "plot_2_plots(drv1, drv1_gen_bisect)"
   ]
  },
  {
   "cell_type": "markdown",
   "metadata": {},
   "source": [
    "Уже по первому графику ясно, что результат получился тот-же, поэтому дальше я просто сравню разультаты по времени"
   ]
  },
  {
   "cell_type": "code",
   "execution_count": 197,
   "metadata": {
    "collapsed": false
   },
   "outputs": [
    {
     "name": "stdout",
     "output_type": "stream",
     "text": [
      "0.08807611465454102s. passed\n"
     ]
    }
   ],
   "source": [
    "start = time.time()\n",
    "drv2_gen_bisect = generate_drvs(cumSum(drv2), 100000, gen_drv_bisect)\n",
    "print(str(time.time() - start) + \"s. passed\")"
   ]
  },
  {
   "cell_type": "markdown",
   "metadata": {},
   "source": [
    "Вот, сразу виден результат! В случае с простым алгоритмом это работало около 15 секунд. В последний раз убедимся что при этом с распределением всё ок"
   ]
  },
  {
   "cell_type": "code",
   "execution_count": 199,
   "metadata": {
    "collapsed": false,
    "scrolled": true
   },
   "outputs": [
    {
     "data": {
      "image/png": "[encoded data removed]",
      "text/plain": [
       "<matplotlib.figure.Figure at 0x7f82eb3a9828>"
      ]
     },
     "metadata": {},
     "output_type": "display_data"
    }
   ],
   "source": [
    "plot_2_plots(drv2, drv2_gen_bisect)"
   ]
  },
  {
   "cell_type": "code",
   "execution_count": 200,
   "metadata": {
    "collapsed": false
   },
   "outputs": [
    {
     "name": "stdout",
     "output_type": "stream",
     "text": [
      "0.6083593368530273s. passed\n"
     ]
    }
   ],
   "source": [
    "start = time.time()\n",
    "drv3_gen_bisect = generate_drvs(cumSum(drv3), 1000000, gen_drv_bisect)\n",
    "print(str(time.time() - start) + \"s. passed\")"
   ]
  },
  {
   "cell_type": "code",
   "execution_count": 201,
   "metadata": {
    "collapsed": false
   },
   "outputs": [
    {
     "name": "stdout",
     "output_type": "stream",
     "text": [
      "0.7387864589691162s. passed\n"
     ]
    }
   ],
   "source": [
    "start = time.time()\n",
    "drv4_gen_bisect = generate_drvs(cumSum(drv4), 1000000, gen_drv_bisect)\n",
    "print(str(time.time() - start) + \"s. passed\")"
   ]
  },
  {
   "cell_type": "markdown",
   "metadata": {},
   "source": [
    "Заметно, что алгоритм с бинарным поиском справляется примерно так же как простой на малых размерностях, но сильно выигрыват при увеличении размерности хотя бы до 1000"
   ]
  },
  {
   "cell_type": "markdown",
   "metadata": {},
   "source": [
    "### Алгоритм с заполнением прямоугольника n x (1 / n)"
   ]
  },
  {
   "cell_type": "markdown",
   "metadata": {},
   "source": [
    "В стандартном питоне нет аналога < set > (быстрый поиск максимума / минимума и модификация элемента), поэтому предоботка будет немного неоптимальна"
   ]
  },
  {
   "cell_type": "code",
   "execution_count": 316,
   "metadata": {
    "collapsed": true
   },
   "outputs": [],
   "source": [
    "def generate_distr_array(distr):\n",
    "    enum = list(map(lambda x: list(x), enumerate(distr)))\n",
    "    N = len(enum)\n",
    "    res = []# each node struct [[value, barrier],[value, 1.0]]\n",
    "    i = 0\n",
    "    while len(enum) > 0:\n",
    "        mi = min(enum, key=lambda x: x[1])\n",
    "        indexMi = enum.index(mi)\n",
    "        enum.pop(indexMi)\n",
    "        res.append([])\n",
    "        res[i].append(mi)\n",
    "        inversedN = 1.0 / N\n",
    "        spaceLeft = inversedN - mi[1]\n",
    "        if spaceLeft > 0.0 and len(enum) > 0:\n",
    "            ma = max(enum, key=lambda x: x[1])\n",
    "            indexMa = enum.index(ma)\n",
    "            ma[1] -= spaceLeft\n",
    "            if ma[1] <= 0.0:\n",
    "                enum.pop(indexMa)\n",
    "            res[i].append([ma[0], spaceLeft])\n",
    "        s = sum(list(map(lambda x: x[1], res[i])))\n",
    "        ss = 0\n",
    "        for item in res[i]:\n",
    "            item[1] /= s\n",
    "            ss += item[1]\n",
    "            item[1] = ss\n",
    "        i += 1\n",
    "    return res"
   ]
  },
  {
   "cell_type": "code",
   "execution_count": 328,
   "metadata": {
    "collapsed": false
   },
   "outputs": [],
   "source": [
    "def gen_2_rand_from_2():\n",
    "    return (rd.random(), rd.random())\n",
    "\n",
    "def gen_2_rand_from_1():\n",
    "    r = rd.random()\n",
    "    r *= 10**8\n",
    "    fp = int(r)\n",
    "    return (fp / float(10**8), (r - fp))"
   ]
  },
  {
   "cell_type": "code",
   "execution_count": 343,
   "metadata": {
    "collapsed": false
   },
   "outputs": [],
   "source": [
    "def gen_distr_common(drvDistr, rand1, rand2):\n",
    "    idx = int(rand1 * len(drvDistr))\n",
    "    if drvDistr[idx][0][1] > rand2:\n",
    "        return drvDistr[idx][0][0]\n",
    "    else:\n",
    "        return drvDistr[idx][1][0]    \n",
    "\n",
    "def gen_distr_from_2_rand(drvDistr):\n",
    "    rands = gen_2_rand_from_2()\n",
    "    return gen_distr_common(drvDistr, rands[0], rands[1])\n",
    "\n",
    "\n",
    "def gen_distr_from_1_rand(drvDistr):\n",
    "    rands = gen_2_rand_from_1()\n",
    "    return gen_distr_common(drvDistr, rands[0], rands[1])"
   ]
  },
  {
   "cell_type": "code",
   "execution_count": 350,
   "metadata": {
    "collapsed": false
   },
   "outputs": [
    {
     "name": "stdout",
     "output_type": "stream",
     "text": [
      "1.0303895473480225s. passed\n"
     ]
    }
   ],
   "source": [
    "start = time.time()\n",
    "drv1_gen_array = generate_drvs(generate_distr_array(drv1), 1000000, gen_distr_from_2_rand)\n",
    "print(str(time.time() - start) + \"s. passed\")"
   ]
  },
  {
   "cell_type": "code",
   "execution_count": 351,
   "metadata": {
    "collapsed": false
   },
   "outputs": [
    {
     "data": {
      "image/png": "[encoded data removed]",
      "text/plain": [
       "<matplotlib.figure.Figure at 0x7f82eb70f6a0>"
      ]
     },
     "metadata": {},
     "output_type": "display_data"
    }
   ],
   "source": [
    "plot_2_plots(drv1, drv1_gen_array)"
   ]
  },
  {
   "cell_type": "code",
   "execution_count": 352,
   "metadata": {
    "collapsed": false
   },
   "outputs": [
    {
     "name": "stdout",
     "output_type": "stream",
     "text": [
      "1.5282912254333496s. passed\n"
     ]
    }
   ],
   "source": [
    "start = time.time()\n",
    "drv1_gen_array_1 = generate_drvs(generate_distr_array(drv1), 1000000, gen_distr_from_1_rand)\n",
    "print(str(time.time() - start) + \"s. passed\")"
   ]
  },
  {
   "cell_type": "code",
   "execution_count": 359,
   "metadata": {
    "collapsed": false
   },
   "outputs": [
    {
     "data": {
      "image/png": "[encoded data removed]",
      "text/plain": [
       "<matplotlib.figure.Figure at 0x7f82eb48f470>"
      ]
     },
     "metadata": {},
     "output_type": "display_data"
    }
   ],
   "source": [
    "plot_2_plots(drv1, drv1_gen_array_1)"
   ]
  },
  {
   "cell_type": "markdown",
   "metadata": {},
   "source": [
    "Выводы, которые можно сделать по 1му же графику - по времени в таком случае мы проиграли предыдущим алгоритмам (т.к. строили 1 раз массив n x 1/n с довольно большой константой) На больших размерностях влияние времени построения массива нивелируется и получим более адекватный результат по времени выполнения. Что касается корректности решения - сравнение графиков показывает, что всё верно и проблем с использованием 1 СВ вместо 2 не наблюдается."
   ]
  },
  {
   "cell_type": "code",
   "execution_count": 356,
   "metadata": {
    "collapsed": false
   },
   "outputs": [
    {
     "name": "stdout",
     "output_type": "stream",
     "text": [
      "0.2891087532043457s. passed\n"
     ]
    }
   ],
   "source": [
    "start = time.time()\n",
    "drv2_gen_array = generate_drvs(generate_distr_array(drv2), 100000, gen_distr_from_2_rand)\n",
    "print(str(time.time() - start) + \"s. passed\")"
   ]
  },
  {
   "cell_type": "code",
   "execution_count": 357,
   "metadata": {
    "collapsed": false
   },
   "outputs": [
    {
     "data": {
      "image/png": "[encoded data removed]",
      "text/plain": [
       "<matplotlib.figure.Figure at 0x7f82eb4f7ba8>"
      ]
     },
     "metadata": {},
     "output_type": "display_data"
    }
   ],
   "source": [
    "plot_2_plots(drv2, drv2_gen_array)"
   ]
  },
  {
   "cell_type": "code",
   "execution_count": 358,
   "metadata": {
    "collapsed": false
   },
   "outputs": [
    {
     "name": "stdout",
     "output_type": "stream",
     "text": [
      "0.3475914001464844s. passed\n"
     ]
    }
   ],
   "source": [
    "start = time.time()\n",
    "drv2_gen_array_1 = generate_drvs(generate_distr_array(drv2), 100000, gen_distr_from_1_rand)\n",
    "print(str(time.time() - start) + \"s. passed\")"
   ]
  },
  {
   "cell_type": "code",
   "execution_count": 360,
   "metadata": {
    "collapsed": false
   },
   "outputs": [
    {
     "data": {
      "image/png": "[encoded data removed]",
      "text/plain": [
       "<matplotlib.figure.Figure at 0x7f82eb9cf470>"
      ]
     },
     "metadata": {},
     "output_type": "display_data"
    }
   ],
   "source": [
    "plot_2_plots(drv2, drv2_gen_array_1)"
   ]
  },
  {
   "cell_type": "markdown",
   "metadata": {},
   "source": [
    "Мы всё равно проиграли алгоритму с бинарным поиском (за счёт константы), так стоит произвести сравнение только части, отвечающей за саму генерацию"
   ]
  },
  {
   "cell_type": "code",
   "execution_count": 362,
   "metadata": {
    "collapsed": false
   },
   "outputs": [
    {
     "name": "stdout",
     "output_type": "stream",
     "text": [
      "1.5260062217712402s. passed\n"
     ]
    }
   ],
   "source": [
    "start = time.time()\n",
    "drv3_gen_array_1 = generate_drvs(generate_distr_array(drv3), 1000000, gen_distr_from_1_rand)\n",
    "print(str(time.time() - start) + \"s. passed\")"
   ]
  },
  {
   "cell_type": "markdown",
   "metadata": {},
   "source": [
    "Все графики приводить не буду, кажется, что корректность решения видна"
   ]
  },
  {
   "cell_type": "code",
   "execution_count": 367,
   "metadata": {
    "collapsed": false
   },
   "outputs": [
    {
     "name": "stdout",
     "output_type": "stream",
     "text": [
      "1.771045446395874s. passed\n"
     ]
    }
   ],
   "source": [
    "start = time.time()\n",
    "drv4_gen_array_1 = generate_drvs(generate_distr_array(drv4), 1000000, gen_distr_from_1_rand)\n",
    "print(str(time.time() - start) + \"s. passed\")"
   ]
  },
  {
   "cell_type": "code",
   "execution_count": 368,
   "metadata": {
    "collapsed": false
   },
   "outputs": [
    {
     "data": {
      "image/png": "[encoded data removed]",
      "text/plain": [
       "<matplotlib.figure.Figure at 0x7f82e99dadd8>"
      ]
     },
     "metadata": {},
     "output_type": "display_data"
    }
   ],
   "source": [
    "plot_2_plots(drv4, drv4_gen_array_1)"
   ]
  },
  {
   "cell_type": "markdown",
   "metadata": {},
   "source": [
    "А теперь сравнение, о котором говорилось выше, сравним все 3 алгоритма после пред-обработки на drv4"
   ]
  },
  {
   "cell_type": "code",
   "execution_count": 369,
   "metadata": {
    "collapsed": false
   },
   "outputs": [
    {
     "name": "stdout",
     "output_type": "stream",
     "text": [
      "18.502888441085815s. passed\n"
     ]
    }
   ],
   "source": [
    "start = time.time()\n",
    "drv4_gen_basic = generate_drvs(drv4, 1000000, generate_drv_simple)\n",
    "print(str(time.time() - start) + \"s. passed\")"
   ]
  },
  {
   "cell_type": "code",
   "execution_count": 370,
   "metadata": {
    "collapsed": false
   },
   "outputs": [
    {
     "name": "stdout",
     "output_type": "stream",
     "text": [
      "0.7255489826202393s. passed\n"
     ]
    }
   ],
   "source": [
    "cs = cumSum(drv4)\n",
    "start = time.time()\n",
    "drv4_gen_bisect = generate_drvs(cs, 1000000, gen_drv_bisect)\n",
    "print(str(time.time() - start) + \"s. passed\")"
   ]
  },
  {
   "cell_type": "code",
   "execution_count": 372,
   "metadata": {
    "collapsed": false
   },
   "outputs": [
    {
     "name": "stdout",
     "output_type": "stream",
     "text": [
      "1.0693888664245605s. passed\n"
     ]
    }
   ],
   "source": [
    "ar = generate_distr_array(drv4)\n",
    "start = time.time()\n",
    "drv4_gen_array_1 = generate_drvs(ar, 1000000, gen_distr_from_2_rand)\n",
    "print(str(time.time() - start) + \"s. passed\")"
   ]
  },
  {
   "cell_type": "markdown",
   "metadata": {},
   "source": [
    "Всё равно получилось немного дольше, хотя порядки величин сравнимые. Можно попробовать посетовать на малую размерность массива (1000 элементов log(1000) < 10) так что решение с бинарным поиском в таком случае за счёт скрытой константы и кеш промахов могло быть и быстрее. Ещё нюанс в том, что замеры я делал в ipython notebook запущенном в virtualenv (а он в целом у меня какой-то тормозной)."
   ]
  },
  {
   "cell_type": "code",
   "execution_count": null,
   "metadata": {
    "collapsed": true
   },
   "outputs": [],
   "source": []
  }
 ],
 "metadata": {
  "kernelspec": {
   "display_name": "Python 3",
   "language": "python",
   "name": "python3"
  },
  "language_info": {
   "codemirror_mode": {
    "name": "ipython",
    "version": 3
   },
   "file_extension": ".py",
   "mimetype": "text/x-python",
   "name": "python",
   "nbconvert_exporter": "python",
   "pygments_lexer": "ipython3",
   "version": "3.4.3"
  }
 },
 "nbformat": 4,
 "nbformat_minor": 0
}
